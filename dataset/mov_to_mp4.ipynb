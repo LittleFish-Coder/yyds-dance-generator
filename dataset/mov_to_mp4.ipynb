{
 "cells": [
  {
   "cell_type": "code",
   "execution_count": 4,
   "metadata": {},
   "outputs": [
    {
     "name": "stdout",
     "output_type": "stream",
     "text": [
      "\n",
      "Usage:   \n",
      "  /home/littlefish/miniconda3/envs/yyds/bin/python -m pip install [options] <requirement specifier> [package-index-options] ...\n",
      "  /home/littlefish/miniconda3/envs/yyds/bin/python -m pip install [options] -r <requirements file> [package-index-options] ...\n",
      "  /home/littlefish/miniconda3/envs/yyds/bin/python -m pip install [options] [-e] <vcs project url> ...\n",
      "  /home/littlefish/miniconda3/envs/yyds/bin/python -m pip install [options] [-e] <local project path> ...\n",
      "  /home/littlefish/miniconda3/envs/yyds/bin/python -m pip install [options] <archive url/path> ...\n",
      "\n",
      "no such option: -u\n",
      "Note: you may need to restart the kernel to use updated packages.\n"
     ]
    }
   ],
   "source": [
    "%pip install -q --upgrade moviepy"
   ]
  },
  {
   "cell_type": "code",
   "execution_count": null,
   "metadata": {},
   "outputs": [],
   "source": [
    "import moviepy.editor as mpy\n",
    "\n",
    "# Load .mov video\n",
    "clip = mpy.VideoFileClip(\"./video/fish.mov\")\n",
    "\n",
    "# Write the video to a .mp4 file\n",
    "clip.write_videofile(\"./video/fish.mp4\", codec=\"libx264\", audio_codec=\"aac\")"
   ]
  }
 ],
 "metadata": {
  "kernelspec": {
   "display_name": "yyds",
   "language": "python",
   "name": "python3"
  },
  "language_info": {
   "codemirror_mode": {
    "name": "ipython",
    "version": 3
   },
   "file_extension": ".py",
   "mimetype": "text/x-python",
   "name": "python",
   "nbconvert_exporter": "python",
   "pygments_lexer": "ipython3",
   "version": "3.10.14"
  }
 },
 "nbformat": 4,
 "nbformat_minor": 2
}
