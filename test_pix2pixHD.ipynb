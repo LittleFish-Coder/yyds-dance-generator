{
 "cells": [
  {
   "cell_type": "markdown",
   "metadata": {},
   "source": [
    "# Install"
   ]
  },
  {
   "cell_type": "code",
   "execution_count": null,
   "metadata": {},
   "outputs": [],
   "source": [
    "import os\n",
    "\n",
    "# check if `pytorch-CycleGAN-and-pix2pix` is already cloned\n",
    "if not os.path.exists('pix2pixHD'):\n",
    "\t!git clone https://github.com/NVIDIA/pix2pixHD.git\n",
    "else:\n",
    "    print('pix2pixHD already cloned')"
   ]
  },
  {
   "cell_type": "code",
   "execution_count": null,
   "metadata": {},
   "outputs": [],
   "source": [
    "os.chdir('pix2pixHD')"
   ]
  },
  {
   "cell_type": "code",
   "execution_count": null,
   "metadata": {},
   "outputs": [],
   "source": [
    "!pwd"
   ]
  },
  {
   "cell_type": "code",
   "execution_count": null,
   "metadata": {},
   "outputs": [],
   "source": [
    "%pip install -q dominate"
   ]
  },
  {
   "cell_type": "markdown",
   "metadata": {},
   "source": [
    "# Checkpoints"
   ]
  },
  {
   "cell_type": "code",
   "execution_count": null,
   "metadata": {},
   "outputs": [],
   "source": [
    "if not os.path.exists('checkpoints/fish_pix2pix'):\n",
    "    !bash ../scripts/download_pix2pixHD_pretrained.sh\n",
    "else:\n",
    "    print('Pretrained model already exists')"
   ]
  },
  {
   "cell_type": "markdown",
   "metadata": {},
   "source": [
    "# Check Testing Dataset"
   ]
  },
  {
   "cell_type": "code",
   "execution_count": null,
   "metadata": {},
   "outputs": [],
   "source": [
    "import os\n",
    "\n",
    "try:\n",
    "    os.chdir('../dataset')\n",
    "    if not os.path.exists('test_pose'):\n",
    "        !bash ../scripts/download_test_pose.sh\n",
    "    else:\n",
    "        print('Test pose already exists')\n",
    "except:\n",
    "    print('Error: dataset folder not found')\n"
   ]
  },
  {
   "cell_type": "code",
   "execution_count": null,
   "metadata": {},
   "outputs": [],
   "source": [
    "# move the folder to model folder\n",
    "import shutil\n",
    "\n",
    "try:\n",
    "    os.chdir('..')\n",
    "except:\n",
    "    print('Error: Already in the root folder')\n",
    "\n",
    "\n",
    "source_folder = './dataset/test_pose'\n",
    "target_folder = './pix2pixHD/datasets/test_pose'\n",
    "\n",
    "if not os.path.exists(target_folder):\n",
    "    shutil.move(source_folder, target_folder)\n",
    "else:\n",
    "    print('Test pose already exists in pix2pixHD folder')"
   ]
  },
  {
   "cell_type": "markdown",
   "metadata": {},
   "source": [
    "## Rename the test_pose subfolder"
   ]
  },
  {
   "cell_type": "code",
   "execution_count": null,
   "metadata": {},
   "outputs": [],
   "source": [
    "os.rename('./pix2pixHD/datasets/test_pose/testA', './pix2pixHD/datasets/test_pose/test_A')"
   ]
  },
  {
   "cell_type": "code",
   "execution_count": null,
   "metadata": {},
   "outputs": [],
   "source": [
    "# change os path\n",
    "os.chdir('pix2pixHD')"
   ]
  },
  {
   "cell_type": "code",
   "execution_count": null,
   "metadata": {},
   "outputs": [],
   "source": [
    "!pwd"
   ]
  },
  {
   "cell_type": "markdown",
   "metadata": {},
   "source": [
    "# Testing"
   ]
  },
  {
   "cell_type": "code",
   "execution_count": null,
   "metadata": {},
   "outputs": [],
   "source": [
    "!python test.py --dataroot datasets/test_pose --name fish_pix2pix --label_nc 0 --no_instance --netG global --resize_or_crop none --how_many 100"
   ]
  },
  {
   "cell_type": "markdown",
   "metadata": {},
   "source": [
    "# Combine all the generated images into a video"
   ]
  },
  {
   "cell_type": "code",
   "execution_count": null,
   "metadata": {},
   "outputs": [],
   "source": [
    "import cv2\n",
    "from PIL import Image\n",
    "import numpy as np\n",
    "\n",
    "images_path = 'results/fish_pix2pix/test_latest/images/'\n",
    "output_path = 'results/fish_pix2pix/videos/'\n",
    "output_width, output_height = 1280, 720\n",
    "\n",
    "# check if the output path exists, if not create it\n",
    "if not os.path.exists(output_path):\n",
    "    os.makedirs(output_path)\n",
    "\n",
    "image_array = os.listdir(images_path)\n",
    "# only keep the images that with 'fake_B' in the name\n",
    "image_array = [x for x in image_array if '_synthesized_image' in x]\n",
    "image_array.sort(key=lambda x: int(x.split('_')[0]))\n",
    "# print(image_array)\n",
    "\n",
    "img_array = []\n",
    "for filename in image_array:\n",
    "    img = Image.open(f'{images_path}/{filename}')\n",
    "    # resize the image\n",
    "    img = img.resize((output_width, output_height), resample=Image.BICUBIC)\n",
    "    img.save(f'{output_path}/{filename}')\n",
    "    img = np.array(img)\n",
    "    img_array.append(img)\n",
    "\n",
    "print(f\"Number of frames: {len(img_array)}\")\n",
    "print(f\"Frame size: {(output_width, output_height)}\")\n",
    "# print(img_array)"
   ]
  },
  {
   "cell_type": "code",
   "execution_count": null,
   "metadata": {},
   "outputs": [],
   "source": [
    "from moviepy.editor import VideoFileClip, AudioFileClip, ImageSequenceClip\n",
    "\n",
    "clip = ImageSequenceClip(img_array, fps=30)  # Adjust fps as needed\n",
    "\n",
    "# set audio\n",
    "audio = AudioFileClip('../src/magnetic.mp4')\n",
    "\n",
    "clip = clip.set_audio(audio)\n",
    "\n",
    "# check if the output path exists, if not create it\n",
    "if not os.path.exists('../src/pix2pixHD'):\n",
    "    os.makedirs('../src/pix2pixHD')\n",
    "\n",
    "clip.write_videofile(f'../src/pix2pixHD/magnetic_fish.mp4', codec='libx264', audio_codec=\"aac\", fps=30)"
   ]
  },
  {
   "cell_type": "markdown",
   "metadata": {},
   "source": [
    "# Combine the video\n",
    "\n",
    "combine 3 imgs into a video\n",
    "- real_world_dance\n",
    "- real_world_pose\n",
    "- generated_video"
   ]
  },
  {
   "cell_type": "code",
   "execution_count": null,
   "metadata": {},
   "outputs": [],
   "source": [
    "dance_folder = 'datasets/test_pose/source'\n",
    "pose_folder = 'datasets/test_pose/test_A'\n",
    "gen_img_array = img_array\n",
    "\n",
    "# sort the dance_folder\n",
    "dance_img_array = os.listdir(dance_folder)\n",
    "dance_img_array.sort(key=lambda x: int(x.split('.')[0]))\n",
    "\n",
    "# sort the pose_folder\n",
    "pose_img_array = os.listdir(pose_folder)\n",
    "pose_img_array.sort(key=lambda x: int(x.split('.')[0]))\n",
    "\n",
    "print(f\"Number of totall images: {len(dance_img_array)}\")\n",
    "\n",
    "# combine the test and generated images\n",
    "combined_img_array = []\n",
    "for dance_img, pose_img, gen_img in zip(dance_img_array, pose_img_array, gen_img_array):\n",
    "    dance_img = Image.open(f'{dance_folder}/{dance_img}')\n",
    "    pose_img = Image.open(f'{pose_folder}/{pose_img}')\n",
    "    gen_img = Image.fromarray(gen_img)\n",
    "    combined_img = Image.new('RGB', (3*output_width, output_height))\n",
    "    combined_img.paste(dance_img, (0, 0))\n",
    "    combined_img.paste(pose_img, (output_width, 0))\n",
    "    combined_img.paste(gen_img, (2*output_width, 0))\n",
    "    combined_img = np.array(combined_img)\n",
    "    combined_img_array.append(combined_img)\n",
    "    \n",
    "print(f\"Number of combined images: {len(combined_img_array)}\")"
   ]
  },
  {
   "cell_type": "markdown",
   "metadata": {},
   "source": [
    "# Write the video out"
   ]
  },
  {
   "cell_type": "code",
   "execution_count": null,
   "metadata": {},
   "outputs": [],
   "source": [
    "from moviepy.editor import ImageSequenceClip\n",
    "\n",
    "clip = ImageSequenceClip(combined_img_array, fps=30)  # Adjust fps as needed\n",
    "\n",
    "audio_clip = AudioFileClip(\"../src/magnetic.mp4\")\n",
    "\n",
    "clip = clip.set_audio(audio_clip)\n",
    "\n",
    "clip.write_videofile(f'../src/pix2pixHD/magnetic_dance2pose2fish.mp4', codec='libx264', audio_codec=\"aac\",  fps=30)"
   ]
  }
 ],
 "metadata": {
  "kernelspec": {
   "display_name": "yyds",
   "language": "python",
   "name": "python3"
  },
  "language_info": {
   "codemirror_mode": {
    "name": "ipython",
    "version": 3
   },
   "file_extension": ".py",
   "mimetype": "text/x-python",
   "name": "python",
   "nbconvert_exporter": "python",
   "pygments_lexer": "ipython3",
   "version": "3.10.14"
  }
 },
 "nbformat": 4,
 "nbformat_minor": 2
}
