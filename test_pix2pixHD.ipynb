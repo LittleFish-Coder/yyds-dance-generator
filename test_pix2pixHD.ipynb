{
 "cells": [
  {
   "cell_type": "markdown",
   "metadata": {},
   "source": [
    "# Install"
   ]
  },
  {
   "cell_type": "code",
   "execution_count": null,
   "metadata": {},
   "outputs": [],
   "source": [
    "import os\n",
    "\n",
    "# check if `pytorch-CycleGAN-and-pix2pix` is already cloned\n",
    "if not os.path.exists('pix2pixHD'):\n",
    "\t!git clone https://github.com/NVIDIA/pix2pixHD.git\n",
    "else:\n",
    "    print('pix2pixHD already cloned')"
   ]
  },
  {
   "cell_type": "code",
   "execution_count": null,
   "metadata": {},
   "outputs": [],
   "source": [
    "os.chdir('pix2pixHD')"
   ]
  },
  {
   "cell_type": "code",
   "execution_count": null,
   "metadata": {},
   "outputs": [],
   "source": [
    "!pwd"
   ]
  },
  {
   "cell_type": "code",
   "execution_count": null,
   "metadata": {},
   "outputs": [],
   "source": [
    "%pip install -q dominate"
   ]
  },
  {
   "cell_type": "markdown",
   "metadata": {},
   "source": [
    "# Checkpoints"
   ]
  },
  {
   "cell_type": "code",
   "execution_count": null,
   "metadata": {},
   "outputs": [],
   "source": [
    "if not os.path.exists('checkpoints/fish_pix2pix'):\n",
    "    !bash ../scripts/download_pix2pixHD_pretrained.sh\n",
    "else:\n",
    "    print('Pretrained model already exists')"
   ]
  },
  {
   "cell_type": "markdown",
   "metadata": {},
   "source": [
    "# Check Testing Dataset"
   ]
  },
  {
   "cell_type": "code",
   "execution_count": null,
   "metadata": {},
   "outputs": [],
   "source": [
    "import os\n",
    "\n",
    "try:\n",
    "    os.chdir('../dataset')\n",
    "    if not os.path.exists('test_pose'):\n",
    "        !bash ../scripts/download_test_pose.sh\n",
    "    else:\n",
    "        print('Test pose already exists')\n",
    "except:\n",
    "    print('Error: dataset folder not found')\n"
   ]
  },
  {
   "cell_type": "code",
   "execution_count": null,
   "metadata": {},
   "outputs": [],
   "source": [
    "# move the folder to model folder\n",
    "import shutil\n",
    "\n",
    "try:\n",
    "    os.chdir('..')\n",
    "except:\n",
    "    print('Error: Already in the root folder')\n",
    "\n",
    "\n",
    "source_folder = './dataset/test_pose'\n",
    "target_folder = './pix2pixHD/datasets/test_pose'\n",
    "\n",
    "if not os.path.exists(target_folder):\n",
    "    shutil.move(source_folder, target_folder)\n",
    "else:\n",
    "    print('Test pose already exists in pix2pixHD folder')"
   ]
  },
  {
   "cell_type": "code",
   "execution_count": null,
   "metadata": {},
   "outputs": [],
   "source": [
    "# change os path\n",
    "os.chdir('pix2pixHD')"
   ]
  },
  {
   "cell_type": "code",
   "execution_count": null,
   "metadata": {},
   "outputs": [],
   "source": [
    "!pwd"
   ]
  },
  {
   "cell_type": "markdown",
   "metadata": {},
   "source": [
    "# Testing"
   ]
  },
  {
   "cell_type": "code",
   "execution_count": null,
   "metadata": {},
   "outputs": [],
   "source": [
    "!python test.py --dataroot datasets/test_pose --name fish_pix2pix --label_nc 0 --no_instance --netG global --resize_or_crop none --how_many 100"
   ]
  }
 ],
 "metadata": {
  "kernelspec": {
   "display_name": "yyds",
   "language": "python",
   "name": "python3"
  },
  "language_info": {
   "codemirror_mode": {
    "name": "ipython",
    "version": 3
   },
   "file_extension": ".py",
   "mimetype": "text/x-python",
   "name": "python",
   "nbconvert_exporter": "python",
   "pygments_lexer": "ipython3",
   "version": "3.10.14"
  }
 },
 "nbformat": 4,
 "nbformat_minor": 2
}
